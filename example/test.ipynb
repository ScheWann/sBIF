{
 "cells": [
  {
   "cell_type": "code",
   "execution_count": 3,
   "metadata": {},
   "outputs": [
    {
     "name": "stdout",
     "output_type": "stream",
     "text": [
      "Output: Processing file 1 of 1: K.chr1.2480000.2705000.d522c79e1e5749a9abe8f8b61f6784d2dl44ppmy.txt\n",
      "Running command: ../bin/sBIF -i ../data/folding_input/K.chr1.2480000.2705000.d522c79e1e5749a9abe8f8b61f6784d2dl44ppmy.txt -c chr1 -l ../data/chromosome_sizes.txt -s 2480000 -e 2705000 -ns 5000 -nr 100 -cl K -o ../output -r 5000 -do True -j chr1 -p 50\n",
      "Parameters: \n",
      "Interaction file :../data/folding_input/K.chr1.2480000.2705000.d522c79e1e5749a9abe8f8b61f6784d2dl44ppmy.txt\n",
      "Chromosome :chr1\n",
      "Chrom lengths file :../data/chromosome_sizes.txt\n",
      "Start position:2480000\n",
      "End position :2705000\n",
      "Cell line :K\n",
      "Download :1\n",
      "Output folder :../output\n",
      "Resolution :5000\n",
      "Fiber density :0.2368\n",
      "Number of samples :5000\n",
      "Number of samples per run :100\n",
      "Number of potential sphere points :50\n",
      "Knock-in distance :80\n",
      "Maximum trials :100\n",
      "Number of iteractions :100\n",
      "Job prefix :chr1\n",
      "Number of threads :50\n",
      "Bead diameter: 34.2923\n",
      "Generating samples ...\n",
      "Total cost 9.09383 seconds!\n",
      "Done.\n",
      "\n"
     ]
    }
   ],
   "source": [
    "import subprocess\n",
    "\n",
    "def getSampleMatrix():\n",
    "    script = \"./drosChr2L.sh\"\n",
    "    n_samples = 5000\n",
    "    n_samples_per_run = 100\n",
    "    is_download = True\n",
    "    try:\n",
    "        result = subprocess.run(\n",
    "            [\"bash\", script, str(n_samples), str(n_samples_per_run), str(is_download)],\n",
    "            capture_output=True,\n",
    "            text=True,\n",
    "            check=True,\n",
    "        )\n",
    "\n",
    "        print(\"Output:\", result.stdout)\n",
    "        if result.stderr:\n",
    "            print(\"Error:\", result.stderr)\n",
    "\n",
    "    except subprocess.CalledProcessError as e:\n",
    "        print(\"Script failed with error:\", e.stderr)\n",
    "\n",
    "\n",
    "getSampleMatrix()"
   ]
  },
  {
   "cell_type": "code",
   "execution_count": 17,
   "metadata": {},
   "outputs": [],
   "source": [
    "import psycopg2\n",
    "\n",
    "def query_table():\n",
    "    conn = psycopg2.connect(\n",
    "        host=\"localhost\",\n",
    "        port=5432,\n",
    "        dbname=\"test\",\n",
    "        user=\"siyuanzhao\",\n",
    "    )\n",
    "    cur = conn.cursor()\n",
    "\n",
    "    query = \"SELECT * FROM distance limit 5;\"\n",
    "    cur.execute(query)\n",
    "\n",
    "    rows = cur.fetchall()\n",
    "    for row in rows:\n",
    "        print(row)\n",
    "\n",
    "    cur.close()\n",
    "    conn.close()\n",
    "\n",
    "query_table()\n"
   ]
  }
 ],
 "metadata": {
  "kernelspec": {
   "display_name": "VDS",
   "language": "python",
   "name": "python3"
  },
  "language_info": {
   "codemirror_mode": {
    "name": "ipython",
    "version": 3
   },
   "file_extension": ".py",
   "mimetype": "text/x-python",
   "name": "python",
   "nbconvert_exporter": "python",
   "pygments_lexer": "ipython3",
   "version": "3.10.13"
  }
 },
 "nbformat": 4,
 "nbformat_minor": 2
}
