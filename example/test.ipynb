{
 "cells": [
  {
   "cell_type": "code",
   "execution_count": 1,
   "metadata": {},
   "outputs": [],
   "source": [
    "import subprocess"
   ]
  },
  {
   "cell_type": "code",
   "execution_count": null,
   "metadata": {},
   "outputs": [],
   "source": [
    "def getSampleMatrix():\n",
    "    script = \"./drosChr2L.sh\"\n",
    "    n_samples = 5000\n",
    "    n_samples_per_run = 100\n",
    "    is_download = True\n",
    "    try:\n",
    "        result = subprocess.run(\n",
    "            [\"bash\", script, str(n_samples), str(n_samples_per_run), str(is_download)],\n",
    "            capture_output=True,\n",
    "            text=True,\n",
    "            check=True,\n",
    "        )\n",
    "\n",
    "        print(\"Output:\", result.stdout)\n",
    "        if result.stderr:\n",
    "            print(\"Error:\", result.stderr)\n",
    "\n",
    "    except subprocess.CalledProcessError as e:\n",
    "        print(\"Script failed with error:\", e.stderr)\n",
    "\n",
    "\n",
    "getSampleMatrix()"
   ]
  }
 ],
 "metadata": {
  "kernelspec": {
   "display_name": "VDS",
   "language": "python",
   "name": "python3"
  },
  "language_info": {
   "codemirror_mode": {
    "name": "ipython",
    "version": 3
   },
   "file_extension": ".py",
   "mimetype": "text/x-python",
   "name": "python",
   "nbconvert_exporter": "python",
   "pygments_lexer": "ipython3",
   "version": "3.10.13"
  }
 },
 "nbformat": 4,
 "nbformat_minor": 2
}
