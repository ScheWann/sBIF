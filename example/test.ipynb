{
 "cells": [
  {
   "cell_type": "code",
   "execution_count": 2,
   "metadata": {},
   "outputs": [],
   "source": [
    "import subprocess"
   ]
  },
  {
   "cell_type": "code",
   "execution_count": null,
   "metadata": {},
   "outputs": [
    {
     "name": "stdout",
     "output_type": "stream",
     "text": [
      "Output: Processing file 1 of 2: GM.chr1.13000000.13075000.txt\n",
      "Running command: ../bin/sBIF -i ../data/folding_input/GM.chr1.13000000.13075000.txt -c chr1 -l ../data/chromosome_sizes.txt -s 13000000 -e 13075000 -ns 3 -nr 1 -cl GM -o ../output -r 5000 -do False -j chr1 -p 50\n",
      "Trimmed item value: 'False'\n",
      "Parameters: \n",
      "Interaction file :../data/folding_input/GM.chr1.13000000.13075000.txt\n",
      "Chromosome :chr1\n",
      "Chrom lengths file :../data/chromosome_sizes.txt\n",
      "Start position:13000000\n",
      "End position :13075000\n",
      "Cell line :GM\n",
      "Download :0\n",
      "Output folder :../output\n",
      "Resolution :5000\n",
      "Fiber density :0.2368\n",
      "Number of samples :3\n",
      "Number of samples per run :1\n",
      "Number of potential sphere points :50\n",
      "Knock-in distance :80\n",
      "Maximum trials :100\n",
      "Number of iteractions :100\n",
      "Job prefix :chr1\n",
      "Number of threads :50\n",
      "Bead diameter: 34.2923\n",
      "Generating samples ...\n",
      "Inserted GM: chr1.13000000-13075000 (15 samples) successfully.\n",
      "Inserted GM: chr1.13000000-13075000 (15 samples) successfully.\n",
      "Inserted GM: chr1.13000000-13075000 (15 samples) successfully.\n",
      "Total cost 0.01983 seconds!\n",
      "Processing file 2 of 2: IMR.chr1.2745000.12950000.txt\n",
      "Running command: ../bin/sBIF -i ../data/folding_input/IMR.chr1.2745000.12950000.txt -c chr1 -l ../data/chromosome_sizes.txt -s 2745000 -e 12950000 -ns 3 -nr 1 -cl IMR -o ../output -r 5000 -do False -j chr1 -p 50\n",
      "Trimmed item value: 'False'\n",
      "Parameters: \n",
      "Interaction file :../data/folding_input/IMR.chr1.2745000.12950000.txt\n",
      "Chromosome :chr1\n",
      "Chrom lengths file :../data/chromosome_sizes.txt\n",
      "Start position:2745000\n",
      "End position :12950000\n",
      "Cell line :IMR\n",
      "Download :0\n",
      "Output folder :../output\n",
      "Resolution :5000\n",
      "Fiber density :0.2368\n",
      "Number of samples :3\n",
      "Number of samples per run :1\n",
      "Number of potential sphere points :50\n",
      "Knock-in distance :80\n",
      "Maximum trials :100\n",
      "Number of iteractions :100\n",
      "Job prefix :chr1\n",
      "Number of threads :50\n",
      "Bead diameter: 34.2923\n",
      "Generating samples ...\n",
      "Inserted IMR: chr1.2745000-12950000 (2041 samples) successfully.\n",
      "Inserted IMR: chr1.2745000-12950000 (2041 samples) successfully.\n",
      "Inserted IMR: chr1.2745000-12950000 (2041 samples) successfully.\n",
      "Total cost 6.16942 seconds!\n",
      "Done.\n",
      "\n"
     ]
    }
   ],
   "source": [
    "def getSampleMatrix():\n",
    "    script = \"./drosChr2L.sh\"\n",
    "    n_samples = 3\n",
    "    n_samples_per_run = 1\n",
    "    is_download = True\n",
    "    try:\n",
    "        result = subprocess.run(\n",
    "            [\"bash\", script, str(n_samples), str(n_samples_per_run), str(is_download)],\n",
    "            capture_output=True,\n",
    "            text=True,\n",
    "            check=True,\n",
    "        )\n",
    "\n",
    "        print(\"Output:\", result.stdout)\n",
    "        if result.stderr:\n",
    "            print(\"Error:\", result.stderr)\n",
    "\n",
    "    except subprocess.CalledProcessError as e:\n",
    "        print(\"Script failed with error:\", e.stderr)\n",
    "\n",
    "\n",
    "getSampleMatrix()"
   ]
  }
 ],
 "metadata": {
  "kernelspec": {
   "display_name": "VDS",
   "language": "python",
   "name": "python3"
  },
  "language_info": {
   "codemirror_mode": {
    "name": "ipython",
    "version": 3
   },
   "file_extension": ".py",
   "mimetype": "text/x-python",
   "name": "python",
   "nbconvert_exporter": "python",
   "pygments_lexer": "ipython3",
   "version": "3.10.13"
  }
 },
 "nbformat": 4,
 "nbformat_minor": 2
}
